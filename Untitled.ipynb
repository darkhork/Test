{
 "cells": [
  {
   "cell_type": "markdown",
   "metadata": {},
   "source": [
    "for_format_list"
   ]
  },
  {
   "cell_type": "code",
   "execution_count": 2,
   "metadata": {},
   "outputs": [
    {
     "data": {
      "text/plain": [
       "<function str.format>"
      ]
     },
     "execution_count": 2,
     "metadata": {},
     "output_type": "execute_result"
    }
   ],
   "source": [
    "s = '{} {} {}'\n",
    "s.format"
   ]
  },
  {
   "cell_type": "code",
   "execution_count": 4,
   "metadata": {},
   "outputs": [
    {
     "name": "stdout",
     "output_type": "stream",
     "text": [
      "쉣이는쉣2와쉣3흘 좋아해\n"
     ]
    }
   ],
   "source": [
    "s= '{}이는{}와{}흘 좋아해'\n",
    "pr=s.format('쉣','쉣2','쉣3')\n",
    "print(pr)"
   ]
  },
  {
   "cell_type": "code",
   "execution_count": 5,
   "metadata": {},
   "outputs": [
    {
     "name": "stdout",
     "output_type": "stream",
     "text": [
      "쉿이는33333번이고홀리대학에 갔어\n"
     ]
    }
   ],
   "source": [
    "s= '{}이는{}번이고{}대학에 갔어'\n",
    "pr=s.format('쉿',33333,'홀리')\n",
    "print(pr)"
   ]
  },
  {
   "cell_type": "markdown",
   "metadata": {},
   "source": [
    "###[문제]햄버거 1개는 4달라###"
   ]
  },
  {
   "cell_type": "code",
   "execution_count": 6,
   "metadata": {},
   "outputs": [
    {
     "name": "stdout",
     "output_type": "stream",
     "text": [
      "햄버거 1개는 4달라\n"
     ]
    }
   ],
   "source": [
    "s= '{} {}개는 {}달라'\n",
    "pr=s.format('햄버거',1,4)\n",
    "print(pr)"
   ]
  },
  {
   "cell_type": "code",
   "execution_count": 7,
   "metadata": {},
   "outputs": [
    {
     "name": "stdout",
     "output_type": "stream",
     "text": [
      "햄버거 2개는 8달라\n"
     ]
    }
   ],
   "source": [
    "food = '햄버거'\n",
    "num = 2\n",
    "doolar = num*4\n",
    "s= '{} {}개는 {}달라'\n",
    "pr=s.format(food,num,doolar)\n",
    "print(pr)"
   ]
  },
  {
   "cell_type": "code",
   "execution_count": 13,
   "metadata": {},
   "outputs": [
    {
     "name": "stdout",
     "output_type": "stream",
     "text": [
      "햄버거 개수 가격(순서대로)>>10 5\n",
      "햄버거 10개는 50달라\n"
     ]
    }
   ],
   "source": [
    "food = list(map(int,input('햄버거 개수 가격(순서대로)>>').split()))\n",
    "num = int(food[0])\n",
    "doolar = num*int(food[1])\n",
    "s= '{} {}개는 {}달라'\n",
    "pr=s.format('햄버거',num,doolar)\n",
    "print(pr)"
   ]
  },
  {
   "cell_type": "code",
   "execution_count": 16,
   "metadata": {},
   "outputs": [
    {
     "data": {
      "text/plain": [
       "'인천여상 3학년 김고은'"
      ]
     },
     "execution_count": 16,
     "metadata": {},
     "output_type": "execute_result"
    }
   ],
   "source": [
    "stu = '%s %d학년 %s'\n",
    "pr = stu%('인천여상',3,'김고은')\n",
    "pr"
   ]
  },
  {
   "cell_type": "code",
   "execution_count": 23,
   "metadata": {},
   "outputs": [
    {
     "data": {
      "text/plain": [
       "'     인천시 연수구 동춘동      '"
      ]
     },
     "execution_count": 23,
     "metadata": {},
     "output_type": "execute_result"
    }
   ],
   "source": [
    "juso = '     인천시 연수구 동춘동      '\n",
    "juso"
   ]
  },
  {
   "cell_type": "code",
   "execution_count": 18,
   "metadata": {},
   "outputs": [
    {
     "data": {
      "text/plain": [
       "str"
      ]
     },
     "execution_count": 18,
     "metadata": {},
     "output_type": "execute_result"
    }
   ],
   "source": [
    "type(juso)"
   ]
  },
  {
   "cell_type": "code",
   "execution_count": 20,
   "metadata": {},
   "outputs": [],
   "source": [
    "add=juso.strip()"
   ]
  },
  {
   "cell_type": "code",
   "execution_count": 21,
   "metadata": {},
   "outputs": [
    {
     "data": {
      "text/plain": [
       "'     인천시 연수구 동춘동      '"
      ]
     },
     "execution_count": 21,
     "metadata": {},
     "output_type": "execute_result"
    }
   ],
   "source": [
    "juso"
   ]
  },
  {
   "cell_type": "code",
   "execution_count": 22,
   "metadata": {},
   "outputs": [
    {
     "data": {
      "text/plain": [
       "'인천시 연수구 동춘동'"
      ]
     },
     "execution_count": 22,
     "metadata": {},
     "output_type": "execute_result"
    }
   ],
   "source": [
    "add"
   ]
  },
  {
   "cell_type": "code",
   "execution_count": 24,
   "metadata": {},
   "outputs": [
    {
     "data": {
      "text/plain": [
       "11"
      ]
     },
     "execution_count": 24,
     "metadata": {},
     "output_type": "execute_result"
    }
   ],
   "source": [
    "len(add)"
   ]
  },
  {
   "cell_type": "code",
   "execution_count": 25,
   "metadata": {},
   "outputs": [
    {
     "data": {
      "text/plain": [
       "22"
      ]
     },
     "execution_count": 25,
     "metadata": {},
     "output_type": "execute_result"
    }
   ],
   "source": [
    "len(juso)"
   ]
  },
  {
   "cell_type": "code",
   "execution_count": 26,
   "metadata": {},
   "outputs": [
    {
     "data": {
      "text/plain": [
       "['인천시', '연수구', '동춘동']"
      ]
     },
     "execution_count": 26,
     "metadata": {},
     "output_type": "execute_result"
    }
   ],
   "source": [
    "add.split()"
   ]
  },
  {
   "cell_type": "code",
   "execution_count": 29,
   "metadata": {},
   "outputs": [
    {
     "data": {
      "text/plain": [
       "True"
      ]
     },
     "execution_count": 29,
     "metadata": {},
     "output_type": "execute_result"
    }
   ],
   "source": [
    "add.endswith('동춘동')"
   ]
  },
  {
   "cell_type": "code",
   "execution_count": 30,
   "metadata": {},
   "outputs": [
    {
     "data": {
      "text/plain": [
       "True"
      ]
     },
     "execution_count": 30,
     "metadata": {},
     "output_type": "execute_result"
    }
   ],
   "source": [
    "add.startswith('인천')"
   ]
  },
  {
   "cell_type": "code",
   "execution_count": 31,
   "metadata": {},
   "outputs": [
    {
     "name": "stdout",
     "output_type": "stream",
     "text": [
      "숫자10\n"
     ]
    }
   ],
   "source": [
    "num=10\n",
    "if num==10:\n",
    "    print('숫자10')\n",
    "else:\n",
    "    print('10아님')"
   ]
  },
  {
   "cell_type": "code",
   "execution_count": 32,
   "metadata": {},
   "outputs": [
    {
     "name": "stdout",
     "output_type": "stream",
     "text": [
      "1\n",
      "웤후맨\n"
     ]
    }
   ],
   "source": [
    "num=int(input())\n",
    "if num%2==0:\n",
    "    print('퓅수')\n",
    "else:\n",
    "    print('웤후맨')"
   ]
  },
  {
   "cell_type": "code",
   "execution_count": 33,
   "metadata": {},
   "outputs": [
    {
     "name": "stdout",
     "output_type": "stream",
     "text": [
      "21\n",
      "23\n",
      "25\n",
      "27\n",
      "29\n",
      "홀수합 >  125\n"
     ]
    }
   ],
   "source": [
    "sum = 0\n",
    "for i in range(20,31):\n",
    "    if i%2 !=0:\n",
    "        sum+=i\n",
    "        print(i)\n",
    "print(\"홀수합 > \",sum)"
   ]
  },
  {
   "cell_type": "markdown",
   "metadata": {},
   "source": [
    "#[문제만들기]\n",
    "for if 포함"
   ]
  },
  {
   "cell_type": "code",
   "execution_count": 40,
   "metadata": {},
   "outputs": [
    {
     "name": "stdout",
     "output_type": "stream",
     "text": [
      "10\n",
      "1\n",
      "2\n",
      "3\n",
      "4\n",
      "5\n",
      "6\n",
      "7\n",
      "8\n",
      "9\n",
      "10\n",
      "홀수 합 30\n",
      "짝수 합 25\n",
      "둘의 합 55\n"
     ]
    }
   ],
   "source": [
    "num = int(input())\n",
    "hsum = 0;\n",
    "jsum = 0;\n",
    "for i in range(1,num+1):\n",
    "    if i%2==0:\n",
    "        hsum+=i;\n",
    "    elif i%2!=0:\n",
    "        jsum+=i;\n",
    "    print(i)\n",
    "print(\"홀수 합\",hsum)\n",
    "print(\"짝수 합\",jsum)\n",
    "print(\"둘의 합\",hsum+jsum)"
   ]
  },
  {
   "cell_type": "code",
   "execution_count": null,
   "metadata": {},
   "outputs": [],
   "source": []
  }
 ],
 "metadata": {
  "kernelspec": {
   "display_name": "Python 3",
   "language": "python",
   "name": "python3"
  },
  "language_info": {
   "codemirror_mode": {
    "name": "ipython",
    "version": 3
   },
   "file_extension": ".py",
   "mimetype": "text/x-python",
   "name": "python",
   "nbconvert_exporter": "python",
   "pygments_lexer": "ipython3",
   "version": "3.7.4"
  }
 },
 "nbformat": 4,
 "nbformat_minor": 2
}
