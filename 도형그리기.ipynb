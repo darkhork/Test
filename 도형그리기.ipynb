{
 "cells": [
  {
   "cell_type": "code",
   "execution_count": 2,
   "metadata": {},
   "outputs": [
    {
     "ename": "Terminator",
     "evalue": "",
     "output_type": "error",
     "traceback": [
      "\u001b[1;31m---------------------------------------------------------------------------\u001b[0m",
      "\u001b[1;31mTerminator\u001b[0m                                Traceback (most recent call last)",
      "\u001b[1;32m<ipython-input-2-e748a31b3d1e>\u001b[0m in \u001b[0;36m<module>\u001b[1;34m\u001b[0m\n\u001b[0;32m      1\u001b[0m \u001b[1;32mfrom\u001b[0m \u001b[0mturtle\u001b[0m \u001b[1;32mimport\u001b[0m \u001b[1;33m*\u001b[0m\u001b[1;33m\u001b[0m\u001b[1;33m\u001b[0m\u001b[0m\n\u001b[1;32m----> 2\u001b[1;33m \u001b[0mcolor\u001b[0m\u001b[1;33m(\u001b[0m\u001b[1;34m'red'\u001b[0m\u001b[1;33m,\u001b[0m \u001b[1;34m'yellow'\u001b[0m\u001b[1;33m)\u001b[0m\u001b[1;33m\u001b[0m\u001b[1;33m\u001b[0m\u001b[0m\n\u001b[0m\u001b[0;32m      3\u001b[0m \u001b[0mbegin_fill\u001b[0m\u001b[1;33m(\u001b[0m\u001b[1;33m)\u001b[0m\u001b[1;33m\u001b[0m\u001b[1;33m\u001b[0m\u001b[0m\n\u001b[0;32m      4\u001b[0m \u001b[1;32mwhile\u001b[0m \u001b[1;32mTrue\u001b[0m\u001b[1;33m:\u001b[0m\u001b[1;33m\u001b[0m\u001b[1;33m\u001b[0m\u001b[0m\n\u001b[0;32m      5\u001b[0m     \u001b[0mforward\u001b[0m\u001b[1;33m(\u001b[0m\u001b[1;36m200\u001b[0m\u001b[1;33m)\u001b[0m\u001b[1;33m\u001b[0m\u001b[1;33m\u001b[0m\u001b[0m\n",
      "\u001b[1;32m~\\Anaconda3\\lib\\turtle.py\u001b[0m in \u001b[0;36mcolor\u001b[1;34m(*args)\u001b[0m\n",
      "\u001b[1;31mTerminator\u001b[0m: "
     ]
    }
   ],
   "source": [
    "from turtle import *\n",
    "color('red', 'yellow')\n",
    "begin_fill()\n",
    "while True:\n",
    "    forward(200)\n",
    "    left(290)\n",
    "    if abs(pos()) < 1:\n",
    "        break\n",
    "end_fill()\n",
    "done()"
   ]
  },
  {
   "cell_type": "code",
   "execution_count": null,
   "metadata": {},
   "outputs": [],
   "source": [
    "from turtle import *\n",
    "color('red', 'yellow')\n",
    "begin_fill()\n",
    "while True:\n",
    "    forward(300)\n",
    "    left(170)\n",
    "    if abs(pos()) < 2:\n",
    "        break\n",
    "end_fill()\n",
    "done()"
   ]
  },
  {
   "cell_type": "code",
   "execution_count": null,
   "metadata": {},
   "outputs": [],
   "source": [
    "import turtle as t\n",
    "line = int(input(\"선의 길이입력>>\"))\n",
    "angle = int(input(\"도형의 각형입력>>\"))\n",
    "angle2=360/angle\n",
    "print(\"색은 영어로입력\")\n",
    "color_1=input(\"선색>>\")\n",
    "color_2=input(\"내부색>>\")\n",
    "t.color(color_1,color_2)\n",
    "begin_fill()\n",
    "t.shape('turtle')\n",
    "for i in range(angle):\n",
    "    t.fd(line)\n",
    "    t.left(angle2)\n",
    "\n",
    "end_fill()\n",
    "t.exitonclick\n",
    "t.done()"
   ]
  },
  {
   "cell_type": "code",
   "execution_count": 7,
   "metadata": {},
   "outputs": [
    {
     "name": "stdout",
     "output_type": "stream",
     "text": [
      "선의 길이입력>>20\n",
      "도형의 각형입력>>3\n",
      "이동할길이>>100\n",
      "도형의 개수>>3\n",
      "색은 영어로입력\n",
      "선색>>green\n",
      "내부색>>blue\n"
     ]
    }
   ],
   "source": [
    "import turtle as t\n",
    "line = int(input(\"선의 길이입력>>\"))\n",
    "angle = int(input(\"도형의 각형입력>>\"))\n",
    "move = int(input(\"이동할길이>>\"))\n",
    "num = int(input(\"도형의 개수>>\"))\n",
    "angle2=360/angle\n",
    "print(\"색은 영어로입력\")\n",
    "color_1=input(\"선색>>\")\n",
    "color_2=input(\"내부색>>\")\n",
    "t.color(color_1,color_2)\n",
    "t.begin_fill()\n",
    "t.shape('turtle')\n",
    "for i in range(num):\n",
    "    t.pendown()\n",
    "    for i in range(angle):\n",
    "        t.fd(line)\n",
    "        t.left(angle2)\n",
    "    t.penup()\n",
    "    t.left(move)\n",
    "    t.fd(move)\n",
    "\n",
    "t.end_fill()\n",
    "t.exitonclick\n",
    "t.done()"
   ]
  },
  {
   "cell_type": "code",
   "execution_count": null,
   "metadata": {},
   "outputs": [],
   "source": []
  },
  {
   "cell_type": "code",
   "execution_count": null,
   "metadata": {},
   "outputs": [],
   "source": []
  }
 ],
 "metadata": {
  "kernelspec": {
   "display_name": "Python 3",
   "language": "python",
   "name": "python3"
  },
  "language_info": {
   "codemirror_mode": {
    "name": "ipython",
    "version": 3
   },
   "file_extension": ".py",
   "mimetype": "text/x-python",
   "name": "python",
   "nbconvert_exporter": "python",
   "pygments_lexer": "ipython3",
   "version": "3.7.4"
  }
 },
 "nbformat": 4,
 "nbformat_minor": 2
}
